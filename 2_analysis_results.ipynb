{
 "cells": [
  {
   "cell_type": "code",
   "execution_count": null,
   "metadata": {},
   "outputs": [],
   "source": [
    "import re\n",
    "import string\n",
    "import warnings\n",
    "import datetime\n",
    "\n",
    "import numpy as np\n",
    "import pandas as pd\n",
    "\n",
    "from scipy import stats\n",
    "\n",
    "import seaborn as sns\n",
    "import matplotlib.pyplot as plt\n",
    "import matplotlib.dates as mdates\n",
    "from matplotlib.dates import DateFormatter\n",
    "\n",
    "from vaderSentiment.vaderSentiment import SentimentIntensityAnalyzer\n",
    "\n",
    "warnings.filterwarnings('ignore')"
   ]
  },
  {
   "cell_type": "markdown",
   "metadata": {},
   "source": [
    "-----------"
   ]
  },
  {
   "cell_type": "code",
   "execution_count": null,
   "metadata": {},
   "outputs": [],
   "source": [
    "df_sbuzz = pd.read_csv(\"syndata/Box Office/twitter_clean.csv\")\n",
    "df_title = pd.read_csv(\"syndata/Box Office/box_office_clean.csv\")"
   ]
  },
  {
   "cell_type": "code",
   "execution_count": null,
   "metadata": {},
   "outputs": [],
   "source": [
    "movie_dict = {}\n",
    "c = 0\n",
    "\n",
    "for i in df_sbuzz.index:\n",
    "    if df_sbuzz.at[i, 'title'] not in movie_dict:\n",
    "        c+=1\n",
    "        movie_dict[df_sbuzz.at[i, 'title']] = c\n",
    "\n",
    "for i in df_title.index:\n",
    "    if df_title.at[i, 'Title'] not in movie_dict:\n",
    "        c+=1\n",
    "        movie_dict[df_title.at[i, 'Title']] = c\n",
    "        \n",
    "rev_movie_dict = {v:k for k, v in movie_dict.items()}"
   ]
  },
  {
   "cell_type": "code",
   "execution_count": null,
   "metadata": {},
   "outputs": [],
   "source": [
    "titles = list(df_title['movie_id_t'].unique())\n",
    "titles_buzz =  list(df_sbuzz['movie_id_s'].unique())\n",
    "set_intersection_titles = list(set(titles).intersection(titles_buzz))"
   ]
  },
  {
   "cell_type": "code",
   "execution_count": null,
   "metadata": {},
   "outputs": [],
   "source": [
    "df_sbuzz['post_date'] = pd.to_datetime(df_sbuzz['post_date'])\n",
    "df_title['begin_date'] = pd.to_datetime(df_title['begin_date'])\n",
    "df_title['end_date'] = pd.to_datetime(df_title['end_date'])"
   ]
  },
  {
   "cell_type": "code",
   "execution_count": null,
   "metadata": {},
   "outputs": [],
   "source": [
    "# df_sbuzz.sample(2)"
   ]
  },
  {
   "cell_type": "code",
   "execution_count": null,
   "metadata": {},
   "outputs": [],
   "source": [
    "# df_title.sample(2)"
   ]
  },
  {
   "cell_type": "markdown",
   "metadata": {},
   "source": [
    "--------"
   ]
  },
  {
   "cell_type": "markdown",
   "metadata": {},
   "source": [
    "# Analysis through feature engineering and visualization"
   ]
  },
  {
   "cell_type": "code",
   "execution_count": null,
   "metadata": {},
   "outputs": [],
   "source": [
    "plt.rcParams['figure.figsize'] = [18, 10]\n",
    "sns.set(color_codes=True)"
   ]
  },
  {
   "cell_type": "markdown",
   "metadata": {},
   "source": [
    "## Cumulative movie sales in the box office:"
   ]
  },
  {
   "cell_type": "markdown",
   "metadata": {},
   "source": [
    "First, we see how the box office sales are in general."
   ]
  },
  {
   "cell_type": "code",
   "execution_count": null,
   "metadata": {},
   "outputs": [],
   "source": [
    "agg_cost = df_title.groupby(['Title']).sum()[['gross_to_date_float']].sort_values(\n",
    "    by='gross_to_date_float', ascending=False)"
   ]
  },
  {
   "cell_type": "code",
   "execution_count": null,
   "metadata": {
    "scrolled": true
   },
   "outputs": [],
   "source": [
    "weekend_to_total = df_title[['Title', 'weekend_gross_float', 'gross_to_date_float']]\n",
    "weekend_to_total = weekend_to_total.fillna(0)"
   ]
  },
  {
   "cell_type": "markdown",
   "metadata": {},
   "source": [
    "Performance of weekend sales against total gross: It can been seen that these two variables are negatively correlated. This is expected since as weeks progress other new movies become more popular on the weekend compared to the previous ones."
   ]
  },
  {
   "cell_type": "code",
   "execution_count": null,
   "metadata": {},
   "outputs": [],
   "source": [
    "# weekend sales and gross total are negatively correlated\n",
    "stats.spearmanr(weekend_to_total['weekend_gross_float'], weekend_to_total['gross_to_date_float'])"
   ]
  },
  {
   "cell_type": "code",
   "execution_count": null,
   "metadata": {},
   "outputs": [],
   "source": [
    "wtt = sns.scatterplot(data=weekend_to_total, hue = \"Title\", \n",
    "                y=\"weekend_gross_float\", x=\"gross_to_date_float\", \n",
    "                size=\"weekend_gross_float\")\n",
    "wtt.set_xlabel(\"Gross total in AUS $\")\n",
    "wtt.set_ylabel(\"Weekend sales in AUS $\")\n",
    "wtt.set_title(\"Weekend Sales vs. Total gross\");\n",
    "plt.tight_layout()\n",
    "plt.savefig(\"figures/weekend_sales_VS_total.png\")\n",
    "# weekend sales are initially high when the movie releases and \n",
    "# thereafter it starts declining although total sales keeps increasing"
   ]
  },
  {
   "cell_type": "markdown",
   "metadata": {},
   "source": [
    "## General Tweets Analysis"
   ]
  },
  {
   "cell_type": "markdown",
   "metadata": {},
   "source": [
    "Next, we see the overall tweets each movie obtained and also the total sales for each movie. "
   ]
  },
  {
   "cell_type": "code",
   "execution_count": null,
   "metadata": {},
   "outputs": [],
   "source": [
    "# distribution of tweets per movie and total gross respectively\n",
    "fig = plt.figure()\n",
    "ax = fig.add_subplot(111)\n",
    "\n",
    "ax.set_title(\"Distribution of tweets per movie and total gross respectively\")\n",
    "\n",
    "df_sbuzz['title'].value_counts().plot(kind='bar', ax=ax, width=0.82, color='indianred', alpha=0.9);\n",
    "ax.set_xlabel(\"Movie Title\")\n",
    "ax.set_ylabel(\"Total Tweets\");\n",
    "ax.yaxis.label.set_color('red')\n",
    "\n",
    "ax2 = ax.twinx()\n",
    "\n",
    "agg_cost.plot(kind='bar', legend=False, ax=ax2, color='olive', alpha=0.75)\n",
    "ax2.set_xlabel(\"Movie Title\")\n",
    "ax2.set_ylabel(\"Total Gross in 100M $\");\n",
    "ax2.yaxis.label.set_color('olivedrab')\n",
    "ax2.grid(False)\n",
    "plt.tight_layout()\n",
    "plt.savefig(\"figures/total_tweets_VS_total_gross.png\")\n",
    "\n",
    "# for p in ax.patches:\n",
    "#     ax.annotate(str(int(p.get_height())), (p.get_x()*1.004, p.get_height()*1.01), rotation=20)"
   ]
  },
  {
   "cell_type": "markdown",
   "metadata": {},
   "source": [
    "While this does tell the relative popularity between different movies preferred by people, it does not shed any light on if tweets affect the movie performance in the box office."
   ]
  },
  {
   "cell_type": "markdown",
   "metadata": {},
   "source": [
    "### Sales distributed across weeks"
   ]
  },
  {
   "cell_type": "markdown",
   "metadata": {},
   "source": [
    "In this section, we see how the overall sales performs in the weeks following its release."
   ]
  },
  {
   "cell_type": "code",
   "execution_count": null,
   "metadata": {},
   "outputs": [],
   "source": [
    "by_week = (df_title\n",
    "            .groupby(['Title', 'Week # of release'])\n",
    "            .size()\n",
    "            .unstack())"
   ]
  },
  {
   "cell_type": "code",
   "execution_count": null,
   "metadata": {},
   "outputs": [],
   "source": [
    "for idx in by_week.index:\n",
    "    for col in by_week.columns:\n",
    "        \n",
    "        try:\n",
    "            by_week.at[idx, col] = float(df_title[(df_title['Title']==idx) & (df_title['Week # of release']==col)]['gross_to_date_float'])\n",
    "        except:\n",
    "            by_week.at[idx, col] = np.nan\n"
   ]
  },
  {
   "cell_type": "code",
   "execution_count": null,
   "metadata": {
    "scrolled": false
   },
   "outputs": [],
   "source": [
    "plt.figure(figsize=(18,10))\n",
    "week_releases = sns.heatmap(\n",
    "    by_week, \n",
    "    square=True, \n",
    "    cbar_kws={'fraction' : 0.015}, \n",
    "    cmap='RdYlGn',\n",
    "    linewidth=1,\n",
    "    linecolor=\"#fbfbfb\"\n",
    ")\n",
    "week_releases.set_xlabel(\"Week number of release\")\n",
    "week_releases.set_ylabel(\"Movie Title\")\n",
    "week_releases.set_title(\"Box office performance across weeks of & after release\");\n",
    "plt.savefig(\"figures/heatmap_week_release.png\")\n",
    "# given box office sales for movies that have only performed good, i.e. sales keep increasing after every week"
   ]
  },
  {
   "cell_type": "markdown",
   "metadata": {},
   "source": [
    "In general, the overall sales for all movies keep increasing over time. \n",
    "\n",
    "_This can also be because of the kind of movies selected, i.e. movies that perform well in the box office. The exceptions to this case may be movies that don't last longer than 4 weeks in the box office like - ***Occupation***, ***Overlord*** & ***The Predator***. Additionally, movies like ***Sweet Country*** and ***Night School*** although run longer than 4 weeks, their overall sales are satuared from early on implying less popularity._"
   ]
  },
  {
   "cell_type": "markdown",
   "metadata": {},
   "source": [
    "### Do tweets effect sales?"
   ]
  },
  {
   "cell_type": "markdown",
   "metadata": {},
   "source": [
    "We now see if __the number of tweets__ received per movie affects the box office performance."
   ]
  },
  {
   "cell_type": "code",
   "execution_count": null,
   "metadata": {},
   "outputs": [],
   "source": [
    "# grouping movies by count of tweets received\n",
    "tweets_per_movie_date = df_sbuzz.groupby(['movie_id_s', 'title', 'post_date']).size().unstack(1)"
   ]
  },
  {
   "cell_type": "code",
   "execution_count": null,
   "metadata": {},
   "outputs": [],
   "source": [
    "box_vs_tweets = df_title[['movie_id_t', 'Title', 'Week # of release', \n",
    "                          'begin_date', 'end_date', 'gross_to_date_float', 'weekend_gross_float']]"
   ]
  },
  {
   "cell_type": "code",
   "execution_count": null,
   "metadata": {},
   "outputs": [],
   "source": [
    "box_vs_tweets[\"tweets_received\"] = 0"
   ]
  },
  {
   "cell_type": "code",
   "execution_count": null,
   "metadata": {},
   "outputs": [],
   "source": [
    "for m_id, time in tweets_per_movie_date.index:\n",
    "    curr_df = box_vs_tweets[box_vs_tweets['movie_id_t']==m_id]\n",
    "    for idx in curr_df.index:\n",
    "        \n",
    "        if curr_df.at[idx, 'begin_date'] < time < curr_df.at[idx, 'end_date']:\n",
    "            box_vs_tweets.at[idx, 'tweets_received'] = tweets_per_movie_date.loc[(m_id, time), rev_movie_dict[m_id]]\n",
    "\n",
    "        if curr_df.at[idx, 'begin_date'] > time or curr_df.at[idx, 'begin_date'] < time:\n",
    "            new_idx = len(box_vs_tweets)+1\n",
    "            box_vs_tweets.at[new_idx, 'begin_date'] = time.date()\n",
    "            box_vs_tweets.at[new_idx, 'end_date'] = time.date()\n",
    "            box_vs_tweets.at[new_idx, 'Title'] = rev_movie_dict[m_id]\n",
    "            box_vs_tweets.at[new_idx, 'movie_id_t'] = m_id\n",
    "            box_vs_tweets.at[new_idx, 'tweets_received'] = tweets_per_movie_date.loc[(m_id, time), rev_movie_dict[m_id]]\n",
    "        \n",
    "    box_vs_tweets.drop_duplicates(inplace=True)"
   ]
  },
  {
   "cell_type": "code",
   "execution_count": null,
   "metadata": {},
   "outputs": [],
   "source": [
    "# tweets_per_movie_date"
   ]
  },
  {
   "cell_type": "code",
   "execution_count": null,
   "metadata": {},
   "outputs": [],
   "source": [
    "box_vs_tweets = (box_vs_tweets\n",
    "                 .sort_values(by=['movie_id_t', 'begin_date'])\n",
    "                 .reset_index()\n",
    "                 .drop(axis=1, labels=['index'])\n",
    "                 .fillna(0)) # maybe fill nan values not with 0 but with avg between it's neighbours?"
   ]
  },
  {
   "cell_type": "code",
   "execution_count": null,
   "metadata": {},
   "outputs": [],
   "source": [
    "# box_vs_tweets.sort_values(by='tweets_received', ascending=False).head(10)"
   ]
  },
  {
   "cell_type": "markdown",
   "metadata": {},
   "source": [
    "A new feature called `rel_week_release` is introduced which gives the relative week number values to days post and prior to the release week. The release week has `rel_week_release=1` and the week before it is -1 while the week after it is 2 and so on."
   ]
  },
  {
   "cell_type": "code",
   "execution_count": null,
   "metadata": {},
   "outputs": [],
   "source": [
    "box_vs_tweets[\"rel_week_release\"] = 0\n",
    "\n",
    "for key in set_intersection_titles:\n",
    "    d = box_vs_tweets[box_vs_tweets['movie_id_t']==key]\n",
    "    \n",
    "    # assuming `first` starts with 1st week of release by default\n",
    "\n",
    "    indicator = 1\n",
    "    first = list(d[d['Week # of release']==indicator]['begin_date'])[0]\n",
    "\n",
    "    for ix in d.index:\n",
    "        \n",
    "        if d.at[ix, 'rel_week_release'] == 0:\n",
    "                        \n",
    "            if d.at[ix, 'begin_date'] == first:\n",
    "                box_vs_tweets.at[ix, 'rel_week_release'] =  indicator\n",
    "\n",
    "            elif d.at[ix, 'begin_date'] < first:\n",
    "                delta_days = d.at[ix, 'begin_date'] - first\n",
    "                box_vs_tweets.at[ix, 'rel_week_release'] =  (delta_days/7).days \n",
    "\n",
    "            elif d.at[ix, 'begin_date'] > first:\n",
    "                delta_days = d.at[ix, 'begin_date'] - first\n",
    "                box_vs_tweets.at[ix, 'rel_week_release'] =  (delta_days/7).days + 1"
   ]
  },
  {
   "cell_type": "code",
   "execution_count": null,
   "metadata": {},
   "outputs": [],
   "source": [
    "bvt = box_vs_tweets.drop(axis=1, labels=['Week # of release', 'begin_date', 'end_date'])"
   ]
  },
  {
   "cell_type": "code",
   "execution_count": null,
   "metadata": {},
   "outputs": [],
   "source": [
    "# bvt.sort_values(by='tweets_received', ascending=False).tail(20)"
   ]
  },
  {
   "cell_type": "code",
   "execution_count": null,
   "metadata": {},
   "outputs": [],
   "source": [
    "bvt2 = (bvt.groupby(['Title', 'rel_week_release'])['tweets_received'].sum().unstack(-1))"
   ]
  },
  {
   "cell_type": "code",
   "execution_count": null,
   "metadata": {},
   "outputs": [],
   "source": [
    "# number of tweets varying as weeks progress in the box office\n",
    "qwt = sns.heatmap(\n",
    "    bvt2, \n",
    "    square=True, \n",
    "    cbar_kws={'fraction' : 0.01}, \n",
    "    cmap='Spectral',\n",
    "    linewidth=1 \n",
    ");\n",
    "qwt.set_xlabel(\"Relative Week Release\")\n",
    "qwt.set_ylabel(\"Movie Title\")\n",
    "qwt.set_title(\"Number of Tweets received per movie across weeks of release\");\n",
    "plt.tight_layout()\n",
    "plt.savefig(\"figures/heatmap_tweets_VS_rel_week.png\")"
   ]
  },
  {
   "cell_type": "markdown",
   "metadata": {},
   "source": [
    "The overall perspective doesn't give sufficient information since it generalizes on extreme scales (0 - 2000 tweets). Therefore, we see how number of tweets affects sales more in depth per movie in distinct graphs."
   ]
  },
  {
   "cell_type": "code",
   "execution_count": null,
   "metadata": {},
   "outputs": [],
   "source": [
    "from matplotlib.lines import Line2D\n",
    "\n",
    "custom_lines = [Line2D([0], [0], color=\"lightcoral\", alpha=0.5, lw=4, label = \"Total Gross\"),\n",
    "                Line2D([0], [0], color=\"indianred\", alpha=0.75, lw=4, label = \"Weekend Gross\"),\n",
    "                Line2D([0], [0], color=\"teal\", marker=\"o\", lw=0.8, label = \"# Tweets\")]\n",
    "\n",
    "\n",
    "ax.legend(handles=custom_lines, loc='upper left')\n",
    "\n",
    "plt.show()"
   ]
  },
  {
   "cell_type": "code",
   "execution_count": null,
   "metadata": {
    "scrolled": true
   },
   "outputs": [],
   "source": [
    "for group in box_vs_tweets.groupby(['movie_id_t']):\n",
    "    \n",
    "    # plot for each movie individually\n",
    "    \n",
    "    date_form = DateFormatter(\"%d-%b-%y\")\n",
    "    \n",
    "    mini = group[1]\n",
    "    start_date_lim = mini['begin_date'].iloc[0] - datetime.timedelta(days=5)\n",
    "    end_date_lim = mini['end_date'].iloc[len(mini)-1] + datetime.timedelta(days=5)\n",
    "\n",
    "    custom_lines = [Line2D([0], [0], color=\"lightcoral\", alpha=0.5, lw=4, label = \"Total Gross\"),\n",
    "                Line2D([0], [0], color=\"indianred\", alpha=0.75, lw=4, label = \"Weekend Gross\"),\n",
    "                Line2D([0], [0], color=\"teal\", marker=\"o\", lw=0.8, label = \"# Tweets\")]\n",
    "    \n",
    "    fig = plt.figure()\n",
    "    ax1 = fig.add_subplot(111)\n",
    "    \n",
    "    ax1.set_title(\"{} ({} to {})\".format(string.capwords(mini['Title'].iloc[0]), mini['begin_date'].iloc[0].date(), mini['end_date'].iloc[len(mini)-1].date()))\n",
    "    ax1.plot(mini['begin_date'], mini['tweets_received'], color=\"teal\", marker=\"o\", linewidth=0.8)\n",
    "    \n",
    "    ax1.set_ylabel(\"Number of Tweets\")\n",
    "    ax1.yaxis.label.set_color('teal')\n",
    "\n",
    "    ax2 = ax1.twinx()\n",
    "    \n",
    "    ax2.bar(x=mini['begin_date'], height=mini['gross_to_date_float'], width=3.5, alpha=0.5, color=\"lightcoral\")\n",
    "    ax2.bar(x=mini['begin_date'], height=mini['weekend_gross_float'], width=3.5, alpha=0.75, color=\"indianred\")\n",
    "    \n",
    "    ax2.set_ylabel(\"Total gross in AUS $\")\n",
    "    ax2.yaxis.label.set_color('indianred')\n",
    "    ax2.grid(False)\n",
    "\n",
    "    ax1.set_xlabel(\"Weekly Date Range\")\n",
    "    ax1.legend(handles=custom_lines, loc='upper left')\n",
    "\n",
    "    # Define the date format\n",
    "    fig.autofmt_xdate(rotation=90)\n",
    "\n",
    "    ax1.set_xlim([start_date_lim, end_date_lim])\n",
    "\n",
    "    ax1.xaxis.set_major_formatter(date_form)\n",
    "    ax1.xaxis.set_major_locator(mdates.WeekdayLocator(interval=1));\n",
    "    f = \"{}_{}\".format(re.sub(\"[ ]\", \"_\", mini['Title'].iloc[0]), \"tweets_vs_total\")\n",
    "    plt.tight_layout()\n",
    "    plt.savefig(\"figures/{}.png\".format(f))"
   ]
  },
  {
   "cell_type": "markdown",
   "metadata": {},
   "source": [
    "We see a common pattern for all the movies where the number of tweets prior to the release date is high. This can be attributed by the \"hype\" surrounding movies as people usually talk about it more until they have watched it. Following this hype, once the movie has released it continues to see increasing sales until it saturates and the tweets also die down.\n",
    "\n",
    "Moreover, visually, it looks like the number of tweets are directly proportional to weekend sales.\n",
    "\n",
    "However, there are some movies that deviate from the overall trends observed here such as: _Occupation, Ladies in Black, Sweet Country_ and _Lion_. The reason being, the tweets collected for these movies are not the same dates as their box office performance was recorded.\n"
   ]
  },
  {
   "cell_type": "markdown",
   "metadata": {},
   "source": [
    "### Sentiment of tweets"
   ]
  },
  {
   "cell_type": "markdown",
   "metadata": {},
   "source": [
    "In this section we see if the sentiments of the tweets recorded have any impact on the box office sales."
   ]
  },
  {
   "cell_type": "code",
   "execution_count": null,
   "metadata": {},
   "outputs": [],
   "source": [
    "sub = df_sbuzz[['movie_id_s', 'title', 'post_date', 'tweet_sentiment']]"
   ]
  },
  {
   "cell_type": "code",
   "execution_count": null,
   "metadata": {},
   "outputs": [],
   "source": [
    "# print(stats.mode(sub['tweet_sentiment']).mode)\n",
    "# print(np.mean(sub['tweet_sentiment']))\n",
    "# print(np.median(sub['tweet_sentiment']))"
   ]
  },
  {
   "cell_type": "code",
   "execution_count": null,
   "metadata": {
    "scrolled": false
   },
   "outputs": [],
   "source": [
    "# mini = sub.groupby(['movie_id_s', 'title', 'post_date'])['tweet_sentiment'].agg(pd.Series.mode).unstack(1)\n",
    "mini = sub.groupby(['movie_id_s', 'title', 'post_date'])['tweet_sentiment'].mean().unstack(1)"
   ]
  },
  {
   "cell_type": "code",
   "execution_count": null,
   "metadata": {},
   "outputs": [],
   "source": [
    "# mini"
   ]
  },
  {
   "cell_type": "code",
   "execution_count": null,
   "metadata": {},
   "outputs": [],
   "source": [
    "box_vs_sentiment = df_title[['movie_id_t', 'Title', 'Week # of release','begin_date', 'end_date', 'gross_to_date_float', 'weekend_gross_float']]"
   ]
  },
  {
   "cell_type": "code",
   "execution_count": null,
   "metadata": {},
   "outputs": [],
   "source": [
    "box_vs_sentiment['tweet_sentiment'] = 0"
   ]
  },
  {
   "cell_type": "code",
   "execution_count": null,
   "metadata": {},
   "outputs": [],
   "source": [
    "for m_id, time in mini.index:\n",
    "    curr_df = box_vs_sentiment[box_vs_sentiment['movie_id_t']==m_id]\n",
    "    for idx in curr_df.index:\n",
    "        \n",
    "        if curr_df.at[idx, 'begin_date'] < time < curr_df.at[idx, 'end_date']:\n",
    "            box_vs_sentiment.at[idx, 'tweet_sentiment'] = np.max(mini.loc[(m_id, time), rev_movie_dict[m_id]])\n",
    "\n",
    "        if curr_df.at[idx, 'begin_date'] > time or curr_df.at[idx, 'begin_date'] < time:\n",
    "            new_idx = len(box_vs_sentiment)+1\n",
    "            box_vs_sentiment.at[new_idx, 'begin_date'] = time.date()\n",
    "            box_vs_sentiment.at[new_idx, 'end_date'] = time.date()\n",
    "            box_vs_sentiment.at[new_idx, 'Title'] = rev_movie_dict[m_id]\n",
    "            box_vs_sentiment.at[new_idx, 'movie_id_t'] = m_id\n",
    "            box_vs_sentiment.at[new_idx, 'tweet_sentiment'] = np.max(mini.loc[(m_id, time), rev_movie_dict[m_id]])\n",
    "        \n",
    "    box_vs_sentiment.drop_duplicates(inplace=True)"
   ]
  },
  {
   "cell_type": "code",
   "execution_count": null,
   "metadata": {},
   "outputs": [],
   "source": [
    "box_vs_sentiment = (box_vs_sentiment\n",
    "                 .sort_values(by=['movie_id_t', 'begin_date'])\n",
    "                 .reset_index()\n",
    "                 .drop(axis=1, labels=['index'])\n",
    "                 .fillna(0)) # maybe fill nan values not with 0 but with avg between it's neighbours?"
   ]
  },
  {
   "cell_type": "code",
   "execution_count": null,
   "metadata": {},
   "outputs": [],
   "source": [
    "box_vs_sentiment[\"rel_week_release\"] = 0\n",
    "\n",
    "for key in set_intersection_titles:\n",
    "    d = box_vs_sentiment[box_vs_sentiment['movie_id_t']==key]\n",
    "    \n",
    "    # assuming `first` starts with 1st week of release by default\n",
    "\n",
    "    indicator = 1\n",
    "    first = list(d[d['Week # of release']==indicator]['begin_date'])[0]\n",
    "\n",
    "    for ix in d.index:\n",
    "        \n",
    "        if d.at[ix, 'rel_week_release'] == 0:\n",
    "                        \n",
    "            if d.at[ix, 'begin_date'] == first:\n",
    "                box_vs_sentiment.at[ix, 'rel_week_release'] =  indicator\n",
    "\n",
    "            elif d.at[ix, 'begin_date'] < first:\n",
    "                delta_days = d.at[ix, 'begin_date'] - first\n",
    "                box_vs_sentiment.at[ix, 'rel_week_release'] =  (delta_days/7).days \n",
    "\n",
    "            elif d.at[ix, 'begin_date'] > first:\n",
    "                delta_days = d.at[ix, 'begin_date'] - first\n",
    "                box_vs_sentiment.at[ix, 'rel_week_release'] =  (delta_days/7).days + 1"
   ]
  },
  {
   "cell_type": "code",
   "execution_count": null,
   "metadata": {},
   "outputs": [],
   "source": [
    "# box_vs_sentiment"
   ]
  },
  {
   "cell_type": "code",
   "execution_count": null,
   "metadata": {},
   "outputs": [],
   "source": [
    "bvs2 = box_vs_sentiment.drop(axis=1, labels=['Week # of release', 'begin_date', 'end_date'])"
   ]
  },
  {
   "cell_type": "code",
   "execution_count": null,
   "metadata": {},
   "outputs": [],
   "source": [
    "ff2 = (bvs2.groupby(['Title', 'rel_week_release'])['tweet_sentiment'].mean().unstack(-1))"
   ]
  },
  {
   "cell_type": "code",
   "execution_count": null,
   "metadata": {
    "scrolled": true
   },
   "outputs": [],
   "source": [
    "# sentiments varying as weeks progress in the box office\n",
    "hgf = sns.heatmap(\n",
    "    ff2, \n",
    "    square=True, \n",
    "    cbar_kws={'fraction' : 0.01}, \n",
    "    cmap='RdYlGn',\n",
    "    linewidth=1 \n",
    ");\n",
    "hgf.set_xlabel(\"Relative Week Release\")\n",
    "hgf.set_ylabel(\"Movie Title\")\n",
    "hgf.set_title(\"Polarity of Tweets per movie across weeks of release\");\n",
    "plt.tight_layout()\n",
    "plt.savefig(\"figures/heatmap_polarity_VS_rel_week.png\")"
   ]
  },
  {
   "cell_type": "markdown",
   "metadata": {},
   "source": [
    "The overall sentiment per week of release is computed by taking the mean of all sentiments of the tweets within that range. It can be observed that on average most of the movies have a good sentiment prior to their release. \n",
    "\n",
    "Next, we see if the sentiments of these tweets affect movie sales in the box office."
   ]
  },
  {
   "cell_type": "code",
   "execution_count": null,
   "metadata": {
    "scrolled": true
   },
   "outputs": [],
   "source": [
    "for group in box_vs_sentiment.groupby(['movie_id_t']):\n",
    "    \n",
    "    # plot for each movie individually\n",
    "    \n",
    "    date_form = DateFormatter(\"%d-%b-%y\")\n",
    "    \n",
    "    mini = group[1]\n",
    "    start_date_lim = mini['begin_date'].iloc[0] - datetime.timedelta(days=5)\n",
    "    end_date_lim = mini['end_date'].iloc[len(mini)-1] + datetime.timedelta(days=5)\n",
    "\n",
    "    custom_lines = [Line2D([0], [0], color=\"lightcoral\", alpha=0.5, lw=4, label = \"Total Gross\"),\n",
    "                Line2D([0], [0], color=\"indianred\", alpha=0.75, lw=4, label = \"Weekend Gross\"),\n",
    "                Line2D([0], [0], color=\"seagreen\", marker=\"D\", lw=0.8, label = \"Tweets Polarity\")]\n",
    "    \n",
    "    fig = plt.figure()\n",
    "    ax1 = fig.add_subplot(111)\n",
    "    \n",
    "    ax1.set_title(\"{} ({} to {})\".format(string.capwords(mini['Title'].iloc[0]), mini['begin_date'].iloc[0].date(), mini['end_date'].iloc[len(mini)-1].date()))\n",
    "    ax1.plot(mini['begin_date'], mini['tweet_sentiment'], color=\"seagreen\", marker=\"D\", linewidth=0.8)\n",
    "    \n",
    "    ax1.set_ylabel(\"Tweets Polarity\")\n",
    "    ax1.yaxis.label.set_color('seagreen')\n",
    "\n",
    "    ax2 = ax1.twinx()\n",
    "    \n",
    "    ax2.bar(x=mini['begin_date'], height=mini['gross_to_date_float'], width=3.5, alpha=0.5, color=\"lightcoral\")\n",
    "    ax2.bar(x=mini['begin_date'], height=mini['weekend_gross_float'], width=3.5, alpha=0.75, color=\"indianred\")\n",
    "    \n",
    "    ax2.set_ylabel(\"Total gross in AUS $\")\n",
    "    ax2.yaxis.label.set_color('indianred')\n",
    "    ax2.grid(False)\n",
    "\n",
    "    ax1.set_xlabel(\"Weekly Date Range\")\n",
    "    ax1.legend(handles=custom_lines, loc='upper left')\n",
    "\n",
    "    # Define the date format\n",
    "    fig.autofmt_xdate(rotation=90)\n",
    "\n",
    "    ax1.set_xlim([start_date_lim, end_date_lim])\n",
    "\n",
    "    ax1.xaxis.set_major_formatter(date_form)\n",
    "    ax1.xaxis.set_major_locator(mdates.WeekdayLocator(interval=1));\n",
    "    f = \"{}_{}\".format(re.sub(\"[ ]\", \"_\", mini['Title'].iloc[0]), \"polarity_vs_total\")\n",
    "    plt.tight_layout()\n",
    "    plt.savefig(\"figures/{}.png\".format(f))"
   ]
  },
  {
   "cell_type": "markdown",
   "metadata": {},
   "source": [
    " In general, there is a relatively positive sentiment prior to the release for all movies (with some exceptitions as recorded in the previous section).\n",
    "\n",
    "While it was seen earlier that _Avengers_ recorded the most amount of sales and tweets amongst all movies, however, its respective tweets have a poor sentiment. This is because of the movie name itself (`avengers-infinity-war`) contains words that entail negative sentiments. Therefore, this can skew the polarity. Similary, even `The Greatest Showman` movie has highly positive sentiments."
   ]
  },
  {
   "cell_type": "markdown",
   "metadata": {},
   "source": [
    "An interesting point in all these graphs is the 1st week of release. This time records the highest weekend sales for every movie and it can also be inferred that social media buzz does affect it largely. Moreover, it can also be seen that the 1st weekend sales determines the future success/run for that movie in the box office. \n",
    "\n",
    "This also explains why a lot of movie franchises advertise (online/offline) a lot before the movie releases."
   ]
  },
  {
   "cell_type": "markdown",
   "metadata": {},
   "source": [
    "### Seasonality/Genre/Influencer effecting sales"
   ]
  },
  {
   "cell_type": "markdown",
   "metadata": {},
   "source": [
    "In addition, we also see if the time of release affects the movie sales."
   ]
  },
  {
   "cell_type": "markdown",
   "metadata": {},
   "source": [
    "#### Seasonality"
   ]
  },
  {
   "cell_type": "code",
   "execution_count": null,
   "metadata": {},
   "outputs": [],
   "source": [
    "# perform same heatmap analysis for nth week of the year sales - to get idea about seasonality\n",
    "\n",
    "by_nth_week = (df_title\n",
    "              .groupby(['Title', 'nth_week_number'])\n",
    "              .size()\n",
    "              .unstack())\n",
    "\n",
    "for idx in by_nth_week.index:\n",
    "    for col in by_nth_week.columns:\n",
    "        \n",
    "        try:\n",
    "            by_nth_week.at[idx, col] = float(df_title[(df_title['Title']==idx) & (df_title['nth_week_number']==col)]['gross_to_date_float'])\n",
    "        except:\n",
    "            by_nth_week.at[idx, col] = np.nan"
   ]
  },
  {
   "cell_type": "code",
   "execution_count": null,
   "metadata": {},
   "outputs": [],
   "source": [
    "nth_week_releases = sns.heatmap(\n",
    "    by_nth_week, \n",
    "    square=True, \n",
    "    cbar_kws={'fraction' : 0.015}, \n",
    "    cmap='RdYlGn',\n",
    "    linewidth=1 \n",
    ")\n",
    "nth_week_releases.set_xlabel(\"$n^{th}$ week number\")\n",
    "nth_week_releases.set_ylabel(\"Movie Title\")\n",
    "nth_week_releases.set_title(\"Box office performance across $n$ weeks (check for seasonality)\");\n",
    "plt.tight_layout()\n",
    "plt.savefig(\"figures/heatmap_seasonality.png\")"
   ]
  },
  {
   "cell_type": "markdown",
   "metadata": {},
   "source": [
    "This does not give us much information and it is quite too random to interpret any meaningful insights. Seasonality can be determined properly if we compare movies with atleast one common attribute (i.e. franchise or genre or actor)."
   ]
  },
  {
   "cell_type": "markdown",
   "metadata": {},
   "source": [
    "#### Influencer (Future)"
   ]
  },
  {
   "cell_type": "code",
   "execution_count": null,
   "metadata": {},
   "outputs": [],
   "source": [
    "followers_freq = df_sbuzz['user_followers_count'].value_counts(sort=True, ascending=True).to_dict()"
   ]
  },
  {
   "cell_type": "code",
   "execution_count": null,
   "metadata": {
    "scrolled": true
   },
   "outputs": [],
   "source": [
    "max(followers_freq)"
   ]
  },
  {
   "cell_type": "code",
   "execution_count": null,
   "metadata": {
    "scrolled": false
   },
   "outputs": [],
   "source": [
    "plt.subplot(1, 2, 1)\n",
    "sns.distplot(df_sbuzz['user_followers_count'][df_sbuzz['is_influencer']==False], kde=False, hist_kws=dict(edgecolor=\"k\"));\n",
    "plt.subplot(1, 2, 2)\n",
    "sns.distplot(df_sbuzz['user_followers_count'][df_sbuzz['is_influencer']==True], kde=False, hist_kws=dict(edgecolor=\"k\"));\n",
    "\n",
    "# there are some outliers with influencer followers count"
   ]
  },
  {
   "cell_type": "code",
   "execution_count": null,
   "metadata": {},
   "outputs": [],
   "source": [
    "# calculate: out of the total number of tweets received, the % influenced by influencers."
   ]
  },
  {
   "cell_type": "markdown",
   "metadata": {},
   "source": [
    "### Any time series studies? (Future)"
   ]
  },
  {
   "cell_type": "markdown",
   "metadata": {},
   "source": [
    "------------------------------------------------------------------"
   ]
  }
 ],
 "metadata": {
  "kernelspec": {
   "display_name": "Python 3",
   "language": "python",
   "name": "python3"
  },
  "language_info": {
   "codemirror_mode": {
    "name": "ipython",
    "version": 3
   },
   "file_extension": ".py",
   "mimetype": "text/x-python",
   "name": "python",
   "nbconvert_exporter": "python",
   "pygments_lexer": "ipython3",
   "version": "3.7.5"
  }
 },
 "nbformat": 4,
 "nbformat_minor": 2
}
